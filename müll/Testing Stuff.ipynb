{
 "cells": [
  {
   "cell_type": "code",
   "execution_count": 1,
   "metadata": {
    "scrolled": true
   },
   "outputs": [
    {
     "name": "stdout",
     "output_type": "stream",
     "text": [
      "Dash is running on http://127.0.0.1:8050/\n",
      "\n",
      " * Serving Flask app \"__main__\" (lazy loading)\n",
      " * Environment: production\n",
      "   WARNING: This is a development server. Do not use it in a production deployment.\n",
      "   Use a production WSGI server instead.\n",
      " * Debug mode: off\n"
     ]
    },
    {
     "name": "stderr",
     "output_type": "stream",
     "text": [
      " * Running on http://127.0.0.1:8050/ (Press CTRL+C to quit)\n"
     ]
    }
   ],
   "source": [
    "#testing code from course here \n",
    "import pandas as pd\n",
    "import plotly.express as px\n",
    "\n",
    "import dash\n",
    "from dash import dcc, html\n",
    "from dash.dependencies import Input, Output\n",
    "\n",
    "app = dash.Dash(__name__)\n",
    "\n",
    "df = pd.read_csv(\"C:\\\\Users\\\\wanda\\\\Downloads\\\\quakes.csv\")\n",
    "\n",
    "# print(df)\n",
    "\n",
    "\n",
    "app.layout = html.Div([\n",
    "    \n",
    "        \n",
    "    html.H1(\"Earthquake Dashboard with Dash\", style = {'text-align': 'center'}),\n",
    "    html.H4(\"Numbers and facts about earthquakes in the world\", style = {'text-align': 'left'}),\n",
    "\n",
    "    dcc.Dropdown(id='location',\n",
    "                 options = [\n",
    "                     {\"label\": \"Asia\", \"value\": 'Asia'},\n",
    "                     {\"label\": \"Australia\", \"value\": 'Australia'},\n",
    "                     {\"label\": \"Europe\", \"value\": 'Europe'}],\n",
    "                 multi = False,\n",
    "                 value='Asia',\n",
    "                 style = {\"width\": \"40%\"}),\n",
    "    \n",
    "        \n",
    "    dcc.Graph(id='covidplot', figure = {}),\n",
    "    html.Br(),\n",
    "    \n",
    "    dcc.Graph(id='covidplot2', figure = {})\n",
    "])\n",
    "\n",
    "@app.callback(\n",
    "    [Output(component_id='covidplot', component_property='figure'),\n",
    "     Output(component_id='covidplot2', component_property='figure')],\n",
    "    [Input(component_id='location', component_property='value')]\n",
    ")\n",
    "\n",
    "def update_graph(option_slctd):\n",
    "    dff = df.copy()\n",
    "    dff = dff[dff[\"location\"] == option_slctd]\n",
    "    \n",
    "    \n",
    "# Plotly Express\n",
    "    fig = px.scatter(dff, x='magnitude', y='depth', color = \"depth\")\n",
    "\n",
    "    fig2 = px.scatter(dff, x=\"latitude\", y=\"longitude\", \n",
    "                     color = \"magnitude\", size = \"depth\")\n",
    "\n",
    "\n",
    "    return fig, fig2\n",
    "\n",
    "\n",
    "if __name__ == '__main__':\n",
    "    app.run_server(debug=False)\n",
    "    \n",
    "    "
   ]
  },
  {
   "cell_type": "code",
   "execution_count": null,
   "metadata": {},
   "outputs": [],
   "source": []
  }
 ],
 "metadata": {
  "kernelspec": {
   "display_name": "Python 3",
   "language": "python",
   "name": "python3"
  },
  "language_info": {
   "codemirror_mode": {
    "name": "ipython",
    "version": 3
   },
   "file_extension": ".py",
   "mimetype": "text/x-python",
   "name": "python",
   "nbconvert_exporter": "python",
   "pygments_lexer": "ipython3",
   "version": "3.8.5"
  }
 },
 "nbformat": 4,
 "nbformat_minor": 4
}
