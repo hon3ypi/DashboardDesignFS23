{
 "cells": [
  {
   "cell_type": "code",
   "execution_count": null,
   "metadata": {},
   "outputs": [],
   "source": [
    "# Import\n",
    "import pandas as pd\n",
    "import plotly.express as px\n",
    "import dash\n",
    "from dash import dcc, html\n",
    "from dash.dependencies import Input, Output\n",
    "import dash_bootstrap_components as dbc\n",
    "\n",
    "# Web-App\n",
    "app = dash.Dash(__name__, external_stylesheets=[dbc.themes.BOOTSTRAP])\n",
    "\n",
    "\n",
    "# Bereinigter Datensatz\n",
    "data = pd.read_csv('https://raw.githubusercontent.com/monsieurmaussion/fhgr-dade/main/woman-leadership_bereinigt-neu.csv')\n",
    "\n",
    "# Datensatz nach Jahr sortiert für animation_frame\n",
    "data = data.sort_values(by=\"Year\", ascending=True)\n",
    "\n",
    "# Plotly choropleth map\n",
    "hover_data = [\"Country Name\", \"Year\", \"Value\"] # Daten, welche angezeigt werden beim Hovering auf ein Land\n",
    "fig = px.choropleth(data_frame=data,\n",
    "                    color_continuous_scale=px.colors.sequential.Blues, # Farbspektrum für die Visualisierung des «Value»-Balken\n",
    "                    color=\"Value\", # Darstellung «Value»-Balken\n",
    "                    hover_data = hover_data, # Definition hover\n",
    "                    locations='Country Code',  # Spalte mit Iso Alpha-3 Ländercodes im CSV-file\n",
    "                    animation_frame='Year', # Balken animiert mit Jahr der Daten\n",
    "                    ) \n",
    "\n",
    "fig.update_layout(title='Female share of employment in senior and middle management (%)')  # Titel der Map-Visualisierung\n",
    "app.layout = html.Div([html.H1(\"Female share of employment in senior and middle management (%)\"),\n",
    "    dcc.Graph(figure=fig)\n",
    "])\n",
    "\n",
    "if __name__ == '__main__':\n",
    "    app.run_server(debug=False)\n"
   ]
  }
 ],
 "metadata": {
  "kernelspec": {
   "display_name": "Python 3",
   "language": "python",
   "name": "python3"
  },
  "language_info": {
   "codemirror_mode": {
    "name": "ipython",
    "version": 3
   },
   "file_extension": ".py",
   "mimetype": "text/x-python",
   "name": "python",
   "nbconvert_exporter": "python",
   "pygments_lexer": "ipython3",
   "version": "3.8.5"
  }
 },
 "nbformat": 4,
 "nbformat_minor": 4
}
